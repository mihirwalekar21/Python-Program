{
 "cells": [
  {
   "cell_type": "code",
   "execution_count": 1,
   "id": "5ace2afa",
   "metadata": {},
   "outputs": [
    {
     "name": "stdout",
     "output_type": "stream",
     "text": [
      "Hello Python\n"
     ]
    }
   ],
   "source": [
    "#Section A\n",
    "\n",
    "#1. Write a Python program to print “Hello Python”\n",
    "print(\"Hello Python\")"
   ]
  },
  {
   "cell_type": "code",
   "execution_count": 2,
   "id": "37eeb4de",
   "metadata": {},
   "outputs": [
    {
     "name": "stdout",
     "output_type": "stream",
     "text": [
      "enter no 1:23\n",
      "enter no 2:24\n",
      "47\n",
      "0.9583333333333334\n"
     ]
    }
   ],
   "source": [
    "#2. Write a Python program to do arithmetical operations addition and division\n",
    "\n",
    "a=int(input(\"enter no 1:\"))\n",
    "b=int(input(\"enter no 2:\"))\n",
    "x=a+b\n",
    "y=a/b\n",
    "print(x)\n",
    "print(y)"
   ]
  },
  {
   "cell_type": "code",
   "execution_count": 3,
   "id": "46932e32",
   "metadata": {},
   "outputs": [
    {
     "name": "stdout",
     "output_type": "stream",
     "text": [
      "Enter first side: 24\n",
      "Enter second side: 25\n",
      "Enter third side: 23\n",
      "The area of the triangle is 248.5478\n"
     ]
    }
   ],
   "source": [
    "#3. Write a Python program to find the area of a triangle?\n",
    "\n",
    "# Three sides of the triangle is a, b and c:  \n",
    "a = float(input('Enter first side: '))  \n",
    "b = float(input('Enter second side: '))  \n",
    "c = float(input('Enter third side: '))  \n",
    "  \n",
    "# calculate the semi-perimeter  \n",
    "s = (a + b + c) / 2  \n",
    "  \n",
    "# calculate the area  \n",
    "area = (s*(s-a)*(s-b)*(s-c)) ** 0.5  \n",
    "print('The area of the triangle is %0.4f' %area)   \n"
   ]
  },
  {
   "cell_type": "code",
   "execution_count": 4,
   "id": "ed6a8b15",
   "metadata": {},
   "outputs": [
    {
     "name": "stdout",
     "output_type": "stream",
     "text": [
      "Enter value of x: 32\n",
      "Enter value of y: 445\n",
      "The value of x after swapping: 445\n",
      "The value of y after swapping: 32\n"
     ]
    }
   ],
   "source": [
    "# 4. Write a Python program to swap two variables?\n",
    "\n",
    "x = input('Enter value of x: ')\n",
    "y = input('Enter value of y: ')\n",
    "temp = x\n",
    "x = y\n",
    "y = temp\n",
    "\n",
    "print('The value of x after swapping: {}'.format(x))\n",
    "print('The value of y after swapping: {}'.format(y))"
   ]
  },
  {
   "cell_type": "code",
   "execution_count": 5,
   "id": "8a2ea0f3",
   "metadata": {},
   "outputs": [
    {
     "name": "stdout",
     "output_type": "stream",
     "text": [
      "50\n"
     ]
    }
   ],
   "source": [
    "# 5. Write a Python program to generate a random number?\n",
    "\n",
    "# Program to generate a random number between 0 and 100\n",
    "\n",
    "# importing the random module\n",
    "import random\n",
    "\n",
    "print(random.randint(0,100))"
   ]
  },
  {
   "cell_type": "code",
   "execution_count": 6,
   "id": "3897a449",
   "metadata": {},
   "outputs": [
    {
     "name": "stdout",
     "output_type": "stream",
     "text": [
      "Enter Kilometer:15\n",
      "The speed value in Miles: 9.320565\n"
     ]
    }
   ],
   "source": [
    "#Question B1\n",
    "con_ratio= 0.621371\n",
    "km=float(input(\"Enter Kilometer:\"))\n",
    "mile = km*con_ratio\n",
    "print(\"The speed value in Miles:\",mile)"
   ]
  },
  {
   "cell_type": "code",
   "execution_count": 7,
   "id": "803156c3",
   "metadata": {},
   "outputs": [
    {
     "name": "stdout",
     "output_type": "stream",
     "text": [
      "Enter the temperature in celcius:22\n",
      "Temperature in farenheit is: 71.6\n"
     ]
    }
   ],
   "source": [
    "#Question B2\n",
    "celsius=int(input(\"Enter the temperature in celcius:\"))\n",
    "f=(celsius*1.8)+32\n",
    "print(\"Temperature in farenheit is:\",f)"
   ]
  },
  {
   "cell_type": "code",
   "execution_count": 8,
   "id": "93fd0908",
   "metadata": {},
   "outputs": [
    {
     "name": "stdout",
     "output_type": "stream",
     "text": [
      "Enter Year: 2003\n",
      "Enter Month: 9\n",
      "   September 2003\n",
      "Mo Tu We Th Fr Sa Su\n",
      " 1  2  3  4  5  6  7\n",
      " 8  9 10 11 12 13 14\n",
      "15 16 17 18 19 20 21\n",
      "22 23 24 25 26 27 28\n",
      "29 30\n",
      "\n"
     ]
    }
   ],
   "source": [
    "#Question B3\n",
    "# Python program to print Calendar using\n",
    "# Python Calender module\n",
    "\n",
    "import calendar\n",
    "\n",
    "# take year from user\n",
    "year = int(input(\"Enter Year: \"))\n",
    "\n",
    "# take month from user\n",
    "month = int(input(\"Enter Month: \"))\n",
    "\n",
    "# printing Calendar\n",
    "print(calendar.month(year,month))"
   ]
  },
  {
   "cell_type": "code",
   "execution_count": 9,
   "id": "d3bb5d15",
   "metadata": {},
   "outputs": [
    {
     "name": "stdout",
     "output_type": "stream",
     "text": [
      "Enter the 1st Number 112\n",
      "Enter the 2nd Number 23\n",
      "Enter the 3rd Number 44\n",
      "Complex Roots\n",
      "-0.10267857142857142  + i 138.50270755476225\n",
      "-0.10267857142857142  - i 138.50270755476225\n"
     ]
    }
   ],
   "source": [
    "#Question B4\n",
    "# Python program to find roots of quadratic equation\n",
    "import math \n",
    "  \n",
    "a=float(input(\"Enter the 1st Number \"))\n",
    "b=float(input(\"Enter the 2nd Number \"))\n",
    "c=float(input(\"Enter the 3rd Number \"))\n",
    "# function for finding roots\n",
    "def equationroots( a, b, c): \n",
    "  \n",
    "    # calculating discriminant using formula\n",
    "    dis = b * b - 4 * a * c \n",
    "    sqrt_val = math.sqrt(abs(dis)) \n",
    "      \n",
    "    # checking condition for discriminant\n",
    "    if dis > 0: \n",
    "        print(\" real and different roots \") \n",
    "        print((-b + sqrt_val)/(2 * a)) \n",
    "        print((-b - sqrt_val)/(2 * a)) \n",
    "      \n",
    "    elif dis == 0: \n",
    "        print(\" real and same roots\") \n",
    "        print(-b / (2 * a)) \n",
    "      \n",
    "    # when discriminant is less than 0\n",
    "    else:\n",
    "        print(\"Complex Roots\") \n",
    "        print(- b / (2 * a), \" + i\", sqrt_val) \n",
    "        print(- b / (2 * a), \" - i\", sqrt_val) \n",
    "  \n",
    "  \n",
    "# If a is 0, then incorrect equation\n",
    "if a == 0: \n",
    "        print(\"Input correct quadratic equation\") \n",
    "  \n",
    "else:\n",
    "    equationroots(a,b,c)"
   ]
  },
  {
   "cell_type": "code",
   "execution_count": 10,
   "id": "ddf77059",
   "metadata": {},
   "outputs": [
    {
     "name": "stdout",
     "output_type": "stream",
     "text": [
      "Enter value of x: 12\n",
      "Enter value of y: 34\n",
      "x = 34\n",
      "y = 12\n"
     ]
    }
   ],
   "source": [
    "#Question B5\n",
    "#Write a Python program to swap two variables without temp variable?\n",
    "\n",
    "x = input('Enter value of x: ')\n",
    "y = input('Enter value of y: ')\n",
    "x, y = y, x\n",
    "print(\"x =\",x)\n",
    "print(\"y =\",y)"
   ]
  },
  {
   "cell_type": "code",
   "execution_count": 11,
   "id": "7268921d",
   "metadata": {},
   "outputs": [
    {
     "name": "stdout",
     "output_type": "stream",
     "text": [
      "Enter a number: 0\n",
      "Zero\n"
     ]
    }
   ],
   "source": [
    "#Section C\n",
    "#1. Write a Python Program to Check if a Number is Positive, Negative or Zero?\n",
    "\n",
    "num=float(input(\"Enter a number: \"))\n",
    "if num > 0:\n",
    "   print(\"Positive number\")\n",
    "elif num == 0:\n",
    "   print(\"Zero\")\n",
    "else:\n",
    "   print(\"Negative number\")\n",
    "\n"
   ]
  },
  {
   "cell_type": "code",
   "execution_count": 12,
   "id": "89e6b4cc",
   "metadata": {},
   "outputs": [
    {
     "name": "stdout",
     "output_type": "stream",
     "text": [
      "ENTER THE NUMBER  13\n",
      "NUMBER IS ODD\n"
     ]
    }
   ],
   "source": [
    "#2. Write a Python Program to Check if a Number is Odd or Even?\n",
    "\n",
    "def check(NUM):\n",
    "    if (NUM%2)==0:\n",
    "        print (\"NUMBER IS EVEN\")\n",
    "    else:\n",
    "        print(\"NUMBER IS ODD\")\n",
    "X=int(input(\"ENTER THE NUMBER  \"))\n",
    "Y= check(X)"
   ]
  },
  {
   "cell_type": "code",
   "execution_count": 13,
   "id": "f07b3f23",
   "metadata": {},
   "outputs": [
    {
     "name": "stdout",
     "output_type": "stream",
     "text": [
      "The year is leap year\n",
      "The year is not a leap year\n"
     ]
    }
   ],
   "source": [
    "#3. Write a Python Program to Check Leap Year?\n",
    "\n",
    "def chk_leap(num):\n",
    "    if num%4==0 and num%100!=0 or num%400==0:\n",
    "        return 'The year is leap year'\n",
    "    else:\n",
    "        return 'The year is not a leap year'\n",
    "a = chk_leap(2004)\n",
    "b = chk_leap(2023)\n",
    "print(a)\n",
    "print(b)"
   ]
  },
  {
   "cell_type": "code",
   "execution_count": 14,
   "id": "c0254aee",
   "metadata": {},
   "outputs": [
    {
     "name": "stdout",
     "output_type": "stream",
     "text": [
      "Enter any number: 12\n",
      "12 is not a prime number\n"
     ]
    }
   ],
   "source": [
    "#4. Write a Python Program to Check Prime Number?\n",
    "\n",
    "number = int(input(\"Enter any number: \"))\n",
    "if number > 1:\n",
    "    for i in range(2, number):\n",
    "        if (number % i) == 0:\n",
    "            print(number, \"is not a prime number\")\n",
    "            break\n",
    "    else:\n",
    "        print(number, \"is a prime number\")\n",
    "else:\n",
    "    print(number, \"is not a prime number\")"
   ]
  },
  {
   "cell_type": "code",
   "execution_count": 15,
   "id": "58c3bd2d",
   "metadata": {},
   "outputs": [
    {
     "name": "stdout",
     "output_type": "stream",
     "text": [
      "Enter any number: 12\n",
      "Enter any number: 12\n",
      "Prime numbers between 12 and 12 are:\n"
     ]
    }
   ],
   "source": [
    "#5. Write a Python Program to Print all Prime Numbers in an Interval of 1-10000?\n",
    "# Python program to display all the prime numbers within an interval\n",
    "\n",
    "\n",
    "lower = int(input(\"Enter any number: \"))\n",
    "upper = int(input(\"Enter any number: \"))\n",
    "print(\"Prime numbers between\", lower, \"and\", upper, \"are:\")\n",
    "for num in range(lower, upper + 1):\n",
    "   # all prime numbers are greater than 1\n",
    "   if num > 1:\n",
    "       for i in range(2, num):\n",
    "           if (num % i) == 0:\n",
    "               break\n",
    "       else:\n",
    "           print(num)"
   ]
  },
  {
   "cell_type": "code",
   "execution_count": 16,
   "id": "7853cc9d",
   "metadata": {},
   "outputs": [
    {
     "name": "stdout",
     "output_type": "stream",
     "text": [
      "Enter number:123\n",
      "Factorial of the number is: \n",
      "12146304367025329675766243241881295855454217088483382315328918161829235892362167668831156960612640202170735835221294047782591091570411651472186029519906261646730733907419814952960000000000000000000000000000\n"
     ]
    }
   ],
   "source": [
    "# Section D\n",
    "#Question D1\n",
    "#Write a Python Program to Find the Factorial of a Number?\n",
    "n=int(input(\"Enter number:\"))\n",
    "fact=1\n",
    "while(n>0):\n",
    "    fact=fact*n\n",
    "    n=n-1\n",
    "print(\"Factorial of the number is: \")\n",
    "print(fact)"
   ]
  },
  {
   "cell_type": "code",
   "execution_count": 17,
   "id": "9d24cbcc",
   "metadata": {},
   "outputs": [
    {
     "name": "stdout",
     "output_type": "stream",
     "text": [
      "Enter the number of which the user wants to print the multiplication table: 234\n",
      "The Multiplication Table of:  234\n",
      "234 x 1 = 234\n",
      "234 x 2 = 468\n",
      "234 x 3 = 702\n",
      "234 x 4 = 936\n",
      "234 x 5 = 1170\n",
      "234 x 6 = 1404\n",
      "234 x 7 = 1638\n",
      "234 x 8 = 1872\n",
      "234 x 9 = 2106\n",
      "234 x 10 = 2340\n"
     ]
    }
   ],
   "source": [
    "#Question D2\n",
    "# Write a Python Program to Display the multiplication Table?\n",
    "\n",
    "number = int(input (\"Enter the number of which the user wants to print the multiplication table: \"))      \n",
    "# We are using \"for loop\" to iterate the multiplication 10 times       \n",
    "print (\"The Multiplication Table of: \", number)    \n",
    "for count in range(1, 11):      \n",
    "   print (number, 'x', count, '=', number * count)    "
   ]
  },
  {
   "cell_type": "code",
   "execution_count": 18,
   "id": "7587096b",
   "metadata": {},
   "outputs": [
    {
     "name": "stdout",
     "output_type": "stream",
     "text": [
      "How many terms? 123\n",
      "Fibonacci sequence:\n",
      "0\n",
      "1\n",
      "1\n",
      "2\n",
      "3\n",
      "5\n",
      "8\n",
      "13\n",
      "21\n",
      "34\n",
      "55\n",
      "89\n",
      "144\n",
      "233\n",
      "377\n",
      "610\n",
      "987\n",
      "1597\n",
      "2584\n",
      "4181\n",
      "6765\n",
      "10946\n",
      "17711\n",
      "28657\n",
      "46368\n",
      "75025\n",
      "121393\n",
      "196418\n",
      "317811\n",
      "514229\n",
      "832040\n",
      "1346269\n",
      "2178309\n",
      "3524578\n",
      "5702887\n",
      "9227465\n",
      "14930352\n",
      "24157817\n",
      "39088169\n",
      "63245986\n",
      "102334155\n",
      "165580141\n",
      "267914296\n",
      "433494437\n",
      "701408733\n",
      "1134903170\n",
      "1836311903\n",
      "2971215073\n",
      "4807526976\n",
      "7778742049\n",
      "12586269025\n",
      "20365011074\n",
      "32951280099\n",
      "53316291173\n",
      "86267571272\n",
      "139583862445\n",
      "225851433717\n",
      "365435296162\n",
      "591286729879\n",
      "956722026041\n",
      "1548008755920\n",
      "2504730781961\n",
      "4052739537881\n",
      "6557470319842\n",
      "10610209857723\n",
      "17167680177565\n",
      "27777890035288\n",
      "44945570212853\n",
      "72723460248141\n",
      "117669030460994\n",
      "190392490709135\n",
      "308061521170129\n",
      "498454011879264\n",
      "806515533049393\n",
      "1304969544928657\n",
      "2111485077978050\n",
      "3416454622906707\n",
      "5527939700884757\n",
      "8944394323791464\n",
      "14472334024676221\n",
      "23416728348467685\n",
      "37889062373143906\n",
      "61305790721611591\n",
      "99194853094755497\n",
      "160500643816367088\n",
      "259695496911122585\n",
      "420196140727489673\n",
      "679891637638612258\n",
      "1100087778366101931\n",
      "1779979416004714189\n",
      "2880067194370816120\n",
      "4660046610375530309\n",
      "7540113804746346429\n",
      "12200160415121876738\n",
      "19740274219868223167\n",
      "31940434634990099905\n",
      "51680708854858323072\n",
      "83621143489848422977\n",
      "135301852344706746049\n",
      "218922995834555169026\n",
      "354224848179261915075\n",
      "573147844013817084101\n",
      "927372692193078999176\n",
      "1500520536206896083277\n",
      "2427893228399975082453\n",
      "3928413764606871165730\n",
      "6356306993006846248183\n",
      "10284720757613717413913\n",
      "16641027750620563662096\n",
      "26925748508234281076009\n",
      "43566776258854844738105\n",
      "70492524767089125814114\n",
      "114059301025943970552219\n",
      "184551825793033096366333\n",
      "298611126818977066918552\n",
      "483162952612010163284885\n",
      "781774079430987230203437\n",
      "1264937032042997393488322\n",
      "2046711111473984623691759\n",
      "3311648143516982017180081\n",
      "5358359254990966640871840\n",
      "8670007398507948658051921\n",
      "14028366653498915298923761\n"
     ]
    }
   ],
   "source": [
    "#Question D3\n",
    "# Program to display the Fibonacci sequence up to n-th term\n",
    "\n",
    "nterms = int(input(\"How many terms? \"))\n",
    "\n",
    "# first two terms\n",
    "n1, n2 = 0, 1\n",
    "count = 0\n",
    "\n",
    "# check if the number of terms is valid\n",
    "if nterms <= 0:\n",
    "   print(\"Please enter a positive integer\")\n",
    "# if there is only one term, return n1\n",
    "elif nterms == 1:\n",
    "   print(\"Fibonacci sequence upto\",nterms,\":\")\n",
    "   print(n1)\n",
    "# generate fibonacci sequence\n",
    "else:\n",
    "   print(\"Fibonacci sequence:\")\n",
    "   while count < nterms:\n",
    "       print(n1)\n",
    "       nth = n1 + n2\n",
    "       # update values\n",
    "       n1 = n2\n",
    "       n2 = nth\n",
    "       count += 1"
   ]
  },
  {
   "cell_type": "code",
   "execution_count": 19,
   "id": "231905b3",
   "metadata": {},
   "outputs": [
    {
     "name": "stdout",
     "output_type": "stream",
     "text": [
      "Enter a number: 12\n",
      "12 is not an Armstrong number\n"
     ]
    }
   ],
   "source": [
    "#Question D4\n",
    "# Python program to check if the number is an Armstrong number or not\n",
    "\n",
    "# take input from the user\n",
    "num = int(input(\"Enter a number: \"))\n",
    "\n",
    "# initialize sum\n",
    "sum = 0\n",
    "\n",
    "# find the sum of the cube of each digit\n",
    "temp = num\n",
    "while temp > 0:\n",
    "   digit = temp % 10\n",
    "   sum += digit ** 3\n",
    "\n",
    "   temp //= 10\n",
    "\n",
    "# display the result\n",
    "if num == sum:\n",
    "   print(num,\"is an Armstrong number\")\n",
    "else:\n",
    "   print(num,\"is not an Armstrong number\")"
   ]
  },
  {
   "cell_type": "code",
   "execution_count": 20,
   "id": "fa7bbe8f",
   "metadata": {},
   "outputs": [
    {
     "name": "stdout",
     "output_type": "stream",
     "text": [
      "Enter any number: 34\n",
      "Enter any number: 22\n"
     ]
    }
   ],
   "source": [
    "#Question D5\n",
    "# Program to check Armstrong numbers in a certain interval\n",
    "\n",
    "\n",
    "\n",
    "lower = int(input(\"Enter any number: \"))\n",
    "upper = int(input(\"Enter any number: \"))\n",
    "for num in range(lower, upper + 1):\n",
    "\n",
    "   # order of number\n",
    "   order = len(str(num))\n",
    "    \n",
    "   # initialize sum\n",
    "   sum = 0\n",
    "\n",
    "   temp = num\n",
    "   while temp > 0:\n",
    "       digit = temp % 10\n",
    "       sum += digit ** order\n",
    "       temp //= 10\n",
    "\n",
    "   if num == sum:\n",
    "       print(num)"
   ]
  },
  {
   "cell_type": "code",
   "execution_count": 21,
   "id": "9995acb2",
   "metadata": {},
   "outputs": [
    {
     "name": "stdout",
     "output_type": "stream",
     "text": [
      "Enter a Number:12\n",
      "The sum is 78\n"
     ]
    }
   ],
   "source": [
    "#Question D6\n",
    "# Sum of natural numbers up to num\n",
    "\n",
    "num =int(input(\"Enter a Number:\"))\n",
    "\n",
    "if num < 0:\n",
    "   print(\"Enter a positive number\")\n",
    "else:\n",
    "   sum = 0\n",
    "   # use while loop to iterate until zero\n",
    "   while(num > 0):\n",
    "       sum += num\n",
    "       num -= 1\n",
    "   print(\"The sum is\",sum)\n"
   ]
  },
  {
   "cell_type": "code",
   "execution_count": 22,
   "id": "0afe5ce7",
   "metadata": {},
   "outputs": [
    {
     "name": "stdout",
     "output_type": "stream",
     "text": [
      "Sum of the array is  123\n"
     ]
    }
   ],
   "source": [
    "#Section E\n",
    "#Question E1\n",
    "# 1.Write a Python Program to find sum of array?\n",
    " \n",
    " \n",
    "def _sum(arr):\n",
    " \n",
    "    # initialize a variable\n",
    "    # to store the sum\n",
    "    # while iterating through\n",
    "    # the array later\n",
    "    sum = 0\n",
    " \n",
    "    # iterate through the array\n",
    "    # and add each element to the sum variable\n",
    "    # one at a time\n",
    "    for i in arr:\n",
    "        sum = sum + i\n",
    " \n",
    "    return(sum)\n",
    " \n",
    " \n",
    "# driver function\n",
    "arr = []\n",
    "# input values to list\n",
    "arr = [44, 23, 41, 15]\n",
    " \n",
    "# calculating length of array\n",
    "n = len(arr)\n",
    " \n",
    "ans = _sum(arr)\n",
    " \n",
    "# display sum\n",
    "print('Sum of the array is ',ans)"
   ]
  },
  {
   "cell_type": "code",
   "execution_count": 23,
   "id": "53edd3df",
   "metadata": {},
   "outputs": [
    {
     "name": "stdout",
     "output_type": "stream",
     "text": [
      "Largest in given array  890\n"
     ]
    }
   ],
   "source": [
    "#Question E2\n",
    "#2. Write a Python Program to find largest element in an array?\n",
    " \n",
    " \n",
    "def largest(arr, n):\n",
    " \n",
    "    # Initialize maximum element\n",
    "    max = arr[0]\n",
    " \n",
    "    # Traverse array elements from second\n",
    "    # and compare every element with\n",
    "    # current max\n",
    "    for i in range(1, n):\n",
    "        if arr[i] > max:\n",
    "            max = arr[i]\n",
    "    return max\n",
    " \n",
    " \n",
    "# Driver Code\n",
    "arr = [58, 890, 22, 65, 23]\n",
    "n = len(arr)\n",
    "Ans = largest(arr, n)\n",
    "print(\"Largest in given array \",Ans)"
   ]
  },
  {
   "cell_type": "code",
   "execution_count": 24,
   "id": "84e0272a",
   "metadata": {},
   "outputs": [
    {
     "name": "stdout",
     "output_type": "stream",
     "text": [
      "Original array: [1, 2, 3, 4, 5, 6, 7, 8]\n",
      "Rotated array:  [2, 3, 4, 5, 6, 7, 1, 8]\n"
     ]
    }
   ],
   "source": [
    "#Question E3\n",
    "#3. Write a Python Program for array rotation?\n",
    "#Python program to left-rotate the given array\n",
    " \n",
    "#Function reverse the given array by swapping first and last numbers.\n",
    "def reverse(start,end,arr):\n",
    " \n",
    "    #No of iterations needed for reversing the list\n",
    "    no_of_reverse=end-start+1\n",
    " \n",
    "    #By incrementing count value swapping of first and last elements is done.\n",
    "    count=0\n",
    "    while((no_of_reverse)//2!=count):\n",
    "        arr[start+count],arr[end-count]=arr[end-count],arr[start+count]\n",
    "        count+=1\n",
    "    return arr\n",
    " \n",
    "#Function takes array, length of array and no of rotations as input\n",
    "def left_rotate_array(arr,size,d):\n",
    " \n",
    "    #Reverse the Entire List\n",
    "    start=0\n",
    "    end=size-1\n",
    "    arr=reverse(start,end,arr)\n",
    "     \n",
    "    #Divide array into twosub-array based on no of rotations.\n",
    "    #Divide First sub-array\n",
    "    #Reverse the First sub-array\n",
    "    start=0\n",
    "    end=size-d-1\n",
    "    arr=reverse(start,end,arr)\n",
    "     \n",
    "    #Divide Second sub-array\n",
    "    #Reverse the Second sub-array\n",
    "    start=size-d\n",
    "    end=size-1\n",
    "    arr=reverse(start,end,arr)\n",
    "    return arr\n",
    "     \n",
    "arr=[1,2,3,4,5,6,7,8]\n",
    "size=7\n",
    "d=1\n",
    "print('Original array:',arr)\n",
    " \n",
    "#Finding all the symmetric rotation number\n",
    "if(d<=size):\n",
    "    print('Rotated array: ',left_rotate_array(arr,size,d))\n",
    "else:\n",
    "    d=d%size\n",
    "    print('Rotated array: ',left_rotate_array(arr,size,d))"
   ]
  },
  {
   "cell_type": "code",
   "execution_count": 25,
   "id": "870ae3e1",
   "metadata": {},
   "outputs": [
    {
     "name": "stdout",
     "output_type": "stream",
     "text": [
      "6 52 36 12 10 5 "
     ]
    }
   ],
   "source": [
    "#Question E4\n",
    "#4. Write a Python Program to Split the array and add the first part to the end?# Python program to split array and move first part to end.\n",
    " \n",
    "def splitArr(arr, n, k):\n",
    "    for i in range(0, k):\n",
    "        x = arr[0]\n",
    "        for j in range(0, n-1):\n",
    "            arr[j] = arr[j + 1]\n",
    "         \n",
    "        arr[n-1] = x\n",
    "         \n",
    " \n",
    "# main\n",
    "arr = [12, 10, 5, 6, 52, 36]\n",
    "n = len(arr)\n",
    "position = 3\n",
    " \n",
    "splitArr(arr, n, position)\n",
    " \n",
    "for i in range(0, n):\n",
    "    print(arr[i],end=' ')"
   ]
  },
  {
   "cell_type": "code",
   "execution_count": 26,
   "id": "21843d17",
   "metadata": {},
   "outputs": [
    {
     "name": "stdout",
     "output_type": "stream",
     "text": [
      "True\n"
     ]
    }
   ],
   "source": [
    "#Question E5\n",
    "#5. Write a Python Program to check if given array is Monotonic?\n",
    "# Check if given array is Monotonic\n",
    "def isMonotonic(A):\n",
    "    x, y = [], []\n",
    "    x.extend(A)\n",
    "    y.extend(A)\n",
    "    x.sort()\n",
    "    y.sort(reverse=True)\n",
    "    if(x == A or y == A):\n",
    "        return True\n",
    "    return False\n",
    " \n",
    " \n",
    "# Driver program\n",
    "A = [6, 5, 4, 4]\n",
    " \n",
    "# Print required result\n",
    "print(isMonotonic(A))"
   ]
  },
  {
   "cell_type": "code",
   "execution_count": 27,
   "id": "05573218",
   "metadata": {},
   "outputs": [
    {
     "name": "stdout",
     "output_type": "stream",
     "text": [
      "Sum of all elements in given list:  234\n"
     ]
    }
   ],
   "source": [
    "#Section F:\n",
    "#1. Write a Python program to find sum of elements in list?\n",
    "\n",
    "total = 0\n",
    "# creating a list\n",
    "list1 = [11, 5, 177, 18, 23]\n",
    "\n",
    "# Iterate each element in list\n",
    "# and add them in variable total\n",
    "for ele in range(0, len(list1)):\n",
    "    total = total + list1[ele]\n",
    "\n",
    "# printing total value\n",
    "print(\"Sum of all elements in given list: \",total)\n",
    "\n"
   ]
  },
  {
   "cell_type": "code",
   "execution_count": 28,
   "id": "d0c6b58c",
   "metadata": {},
   "outputs": [
    {
     "name": "stdout",
     "output_type": "stream",
     "text": [
      "The list is: [2, 51, -344, 7, 4, 85, -56]\n",
      "The product is: \n",
      "381561344\n"
     ]
    }
   ],
   "source": [
    "# 2.Python program to find sum of elements in list\n",
    "\n",
    "import numpy\n",
    "def multiply_numbers(list):\n",
    "   return numpy.prod(list)\n",
    "given_list = [2,51,-344,7,4,85,-56]\n",
    "print('The list is:',given_list)\n",
    "print(\"The product is: \")\n",
    "print(multiply_numbers(given_list))\n"
   ]
  },
  {
   "cell_type": "code",
   "execution_count": 29,
   "id": "4cd2d05c",
   "metadata": {},
   "outputs": [
    {
     "name": "stdout",
     "output_type": "stream",
     "text": [
      "Enter the number of elements in list: 1\n",
      "Enter elements: 12\n",
      "Smallest element is: 12\n"
     ]
    }
   ],
   "source": [
    "#3. Write a Python program to find smallest number in a list?\n",
    "number=[]\n",
    "\n",
    "#asking number of elements to add in the list\n",
    "n=int(input(\"Enter the number of elements in list: \"))\n",
    "\n",
    "for i in range(1, n + 1):\n",
    "    element=int(input(\"Enter elements: \"))\n",
    "    number.append(element)\n",
    "        \n",
    "#sort the list\n",
    "number.sort()\n",
    "print(\"Smallest element is:\",number[0])"
   ]
  },
  {
   "cell_type": "code",
   "execution_count": 30,
   "id": "2dc2104e",
   "metadata": {},
   "outputs": [
    {
     "name": "stdout",
     "output_type": "stream",
     "text": [
      "Enter the number of elements in list: 12\n",
      "Enter elements: 23\n",
      "Enter elements: 23\n",
      "Enter elements: 12\n",
      "Enter elements: 42\n",
      "Enter elements: 134\n",
      "Enter elements: 564\n",
      "Enter elements: 234\n",
      "Enter elements: 56543\n",
      "Enter elements: 133\n",
      "Enter elements: 22\n",
      "Enter elements: 12\n",
      "Enter elements: 34\n",
      "Largest element is: 56543\n"
     ]
    }
   ],
   "source": [
    "#4. Write a Python program to find largest number in a list?\n",
    "number=[]\n",
    "\n",
    "#asking number of elements to add in the list\n",
    "n=int(input(\"Enter the number of elements in list: \"))\n",
    "\n",
    "for i in range(1, n + 1):\n",
    "    element=int(input(\"Enter elements: \"))\n",
    "    number.append(element)\n",
    "        \n",
    "#sort the list\n",
    "number.sort()\n",
    "print(\"Largest element is:\",number[n-1])"
   ]
  },
  {
   "cell_type": "code",
   "execution_count": 31,
   "id": "dc8bb4a6",
   "metadata": {},
   "outputs": [
    {
     "name": "stdout",
     "output_type": "stream",
     "text": [
      "Enter the number of elements in list: 1\n",
      "Enter elements: 12\n",
      "Second Largest element is: 12\n"
     ]
    }
   ],
   "source": [
    "#5. Write a Python program to find second largest number in a list?\n",
    "\n",
    "number=[]\n",
    "\n",
    "#asking number of elements to add in the list\n",
    "n=int(input(\"Enter the number of elements in list: \"))\n",
    "\n",
    "for i in range(1, n + 1):\n",
    "    element=int(input(\"Enter elements: \"))\n",
    "    number.append(element)\n",
    "        \n",
    "#sort the list\n",
    "number.sort()\n",
    "print(\"Second Largest element is:\",number[n-2])"
   ]
  },
  {
   "cell_type": "code",
   "execution_count": 32,
   "id": "043365b7",
   "metadata": {},
   "outputs": [
    {
     "name": "stdout",
     "output_type": "stream",
     "text": [
      "[670, 605, 461, 110]\n"
     ]
    }
   ],
   "source": [
    "#6. Write a Python program to find N largest elements from a list?\n",
    "# element from given list of integers\n",
    "\n",
    "# Function returns N largest elements\n",
    "def Nmaxelements(list1, N):\n",
    "    final_list = []\n",
    "\n",
    "    for i in range(0, N):\n",
    "        max1 = 0\n",
    "        \n",
    "        for j in range(len(list1)):\t\n",
    "            if list1[j] > max1:\n",
    "                max1 = list1[j];\n",
    "                \n",
    "        list1.remove(max1);\n",
    "        final_list.append(max1)\n",
    "\n",
    "    print(final_list)\n",
    "\n",
    "# Driver code\n",
    "list1 = [23, 605, 461, 85, 670, 33, 74, 6, 110]\n",
    "N = 4\n",
    "\n",
    "# Calling the function\n",
    "Nmaxelements(list1, N)\n"
   ]
  },
  {
   "cell_type": "code",
   "execution_count": 33,
   "id": "7f42eec5",
   "metadata": {},
   "outputs": [
    {
     "name": "stdout",
     "output_type": "stream",
     "text": [
      "2122 412 "
     ]
    }
   ],
   "source": [
    "#7. Write a Python program to print even numbers in a list?\n",
    "\n",
    "# Python program to print Even Numbers in a List\n",
    " \n",
    "# list of numbers\n",
    "list1 = [1045, 2122, 412, 45, 89, 93]\n",
    " \n",
    "# iterating each number in list\n",
    "for num in list1:\n",
    "     \n",
    "    # checking condition\n",
    "    if num % 2 == 0:\n",
    "       print(num, end = \" \")"
   ]
  },
  {
   "cell_type": "code",
   "execution_count": 34,
   "id": "03feb04a",
   "metadata": {},
   "outputs": [
    {
     "name": "stdout",
     "output_type": "stream",
     "text": [
      "1045 45 89 93 "
     ]
    }
   ],
   "source": [
    "#8. Write a Python program to print odd numbers in a List?\n",
    "\n",
    "list1 = [1045, 2122, 412, 45, 89, 93]\n",
    " \n",
    "# iterating each number in list\n",
    "for num in list1:\n",
    "     \n",
    "    # checking condition\n",
    "    if num % 2 == 1:\n",
    "       print(num, end = \" \")"
   ]
  },
  {
   "cell_type": "code",
   "execution_count": 35,
   "id": "c4988460",
   "metadata": {},
   "outputs": [
    {
     "name": "stdout",
     "output_type": "stream",
     "text": [
      "The List : [4, [], 98, 'supra', [], 28, 8, [], 39]\n",
      "The list after removing empty lists\n",
      "[4, 98, 'supra', 28, 8, 39]\n"
     ]
    }
   ],
   "source": [
    "#9. Write a Python program to Remove empty List from List?\n",
    "\n",
    "lst = [4,[],98,'supra',[],28,8,[],39]\n",
    "print(\"The List :\",lst)\n",
    "removedlist = [ele for ele in lst if ele != []]\n",
    "print(\"The list after removing empty lists\")\n",
    "print(removedlist)"
   ]
  },
  {
   "cell_type": "code",
   "execution_count": 36,
   "id": "db08267f",
   "metadata": {},
   "outputs": [
    {
     "name": "stdout",
     "output_type": "stream",
     "text": [
      "Enter the length of your list : 12\n",
      "1\n",
      "2\n",
      "3\n",
      "45\n",
      "6\n",
      "76\n",
      "4\n",
      "3\n",
      "2\n",
      "34\n",
      "56\n",
      "77\n",
      "The List is  [1, 2, 3, 45, 6, 76, 4, 3, 2, 34, 56, 77]\n",
      "The cloned/copied list :\n",
      "Cloning By list slicing lst[:]  [1, 2, 3, 45, 6, 76, 4, 3, 2, 34, 56, 77]\n",
      "Cloning By list copying lst.copy()  [1, 2, 3, 45, 6, 76, 4, 3, 2, 34, 56, 77]\n",
      "Cloning By list Comprahention  [1, 2, 3, 45, 6, 76, 4, 3, 2, 34, 56, 77]\n"
     ]
    }
   ],
   "source": [
    "#10. Write a Python program to Cloning or Copying a list?\n",
    "\n",
    "n = int(input(\"Enter the length of your list : \"))\n",
    "lst = []\n",
    "\n",
    "for i in range(n):\n",
    "    lst.append(int(input()))\n",
    "print(\"The List is \",lst)\n",
    "\n",
    "print(\"The cloned/copied list :\")\n",
    "\n",
    "lstcopy = lst[:]\n",
    "print(\"Cloning By list slicing lst[:] \",lstcopy)\n",
    "#method2\n",
    "lst2 = lst.copy()\n",
    "print(\"Cloning By list copying lst.copy() \",lst2)\n",
    "\n",
    "\n",
    "#Method3\n",
    "lstcomprah = [i for i in lst]\n",
    "print(\"Cloning By list Comprahention \",lstcomprah)\n",
    "\n",
    "\n",
    "#method4\n",
    "lstappend=[]\n",
    "for i in lst : lstappend.append(i)"
   ]
  },
  {
   "cell_type": "code",
   "execution_count": 37,
   "id": "ebf0c8dd",
   "metadata": {},
   "outputs": [
    {
     "name": "stdout",
     "output_type": "stream",
     "text": [
      "Enter the lenth of your list : 3\n",
      "1\n",
      "2\n",
      "3\n",
      "The List is  [1, 2, 3]\n",
      "Enter the element to find its occurance : 3\n",
      "3 has occured 1 times in the list \n"
     ]
    }
   ],
   "source": [
    "# 11. Write a Python program to Count occurrences of an element in a list?\n",
    "\n",
    "n = int(input(\"Enter the lenth of your list : \"))\n",
    "lst = []\n",
    "\n",
    "for i in range(n):\n",
    "    lst.append(int(input()))\n",
    "print(\"The List is \",lst)\n",
    "ele= int(input(\"Enter the element to find its occurance : \"))\n",
    "print(ele,\"has occured {} times in the list \".format(lst.count(ele)))"
   ]
  },
  {
   "cell_type": "code",
   "execution_count": null,
   "id": "2686ea8b",
   "metadata": {},
   "outputs": [],
   "source": []
  }
 ],
 "metadata": {
  "kernelspec": {
   "display_name": "Python 3 (ipykernel)",
   "language": "python",
   "name": "python3"
  },
  "language_info": {
   "codemirror_mode": {
    "name": "ipython",
    "version": 3
   },
   "file_extension": ".py",
   "mimetype": "text/x-python",
   "name": "python",
   "nbconvert_exporter": "python",
   "pygments_lexer": "ipython3",
   "version": "3.9.13"
  }
 },
 "nbformat": 4,
 "nbformat_minor": 5
}
